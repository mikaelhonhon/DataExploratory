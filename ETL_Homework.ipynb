{
  "nbformat": 4,
  "nbformat_minor": 0,
  "metadata": {
    "colab": {
      "name": "ETL Homework.ipynb",
      "provenance": [],
      "collapsed_sections": [],
      "authorship_tag": "ABX9TyMVui8vvk3WdPKstc4aVaiP",
      "include_colab_link": true
    },
    "kernelspec": {
      "name": "python3",
      "display_name": "Python 3"
    },
    "language_info": {
      "name": "python"
    }
  },
  "cells": [
    {
      "cell_type": "markdown",
      "metadata": {
        "id": "view-in-github",
        "colab_type": "text"
      },
      "source": [
        "<a href=\"https://colab.research.google.com/github/mikaelhonhon/DataExploratory/blob/main/ETL_Homework.ipynb\" target=\"_parent\"><img src=\"https://colab.research.google.com/assets/colab-badge.svg\" alt=\"Open In Colab\"/></a>"
      ]
    },
    {
      "cell_type": "code",
      "execution_count": null,
      "metadata": {
        "id": "arUwSUWUDt09"
      },
      "outputs": [],
      "source": [
        "import pandas as pd\n",
        "import logging\n",
        "\n",
        "logging.basicConfig(level=logging.INFO)"
      ]
    },
    {
      "cell_type": "code",
      "source": [
        "url = \"https://id.wikipedia.org/wiki/Daftar_miliarder_Forbes\""
      ],
      "metadata": {
        "id": "wviL4-aVELFJ"
      },
      "execution_count": null,
      "outputs": []
    },
    {
      "cell_type": "code",
      "source": [
        "def scrape(url):\n",
        "  logging.info(f\"Scraping website with url: '{url}' ...\")\n",
        "  return pd.read_html(url, header=None)"
      ],
      "metadata": {
        "id": "WQX7I9DJENGM"
      },
      "execution_count": null,
      "outputs": []
    },
    {
      "cell_type": "code",
      "source": [
        "dfs = scrape(url)[1]"
      ],
      "metadata": {
        "colab": {
          "base_uri": "https://localhost:8080/"
        },
        "id": "f3FNW48_ETIZ",
        "outputId": "35f9bec1-36b9-410a-cd6b-40a236b795cd"
      },
      "execution_count": null,
      "outputs": [
        {
          "output_type": "stream",
          "name": "stderr",
          "text": [
            "INFO:root:Scraping website with url: 'https://id.wikipedia.org/wiki/Daftar_miliarder_Forbes' ...\n"
          ]
        }
      ]
    },
    {
      "cell_type": "code",
      "source": [
        "dfs"
      ],
      "metadata": {
        "colab": {
          "base_uri": "https://localhost:8080/",
          "height": 363
        },
        "id": "W-pPZkmnEYWS",
        "outputId": "5da86816-996c-47ae-ad35-ee6ddc82391c"
      },
      "execution_count": null,
      "outputs": [
        {
          "output_type": "execute_result",
          "data": {
            "text/html": [
              "\n",
              "  <div id=\"df-928504af-f49f-4b93-b50e-96f082c7e7ce\">\n",
              "    <div class=\"colab-df-container\">\n",
              "      <div>\n",
              "<style scoped>\n",
              "    .dataframe tbody tr th:only-of-type {\n",
              "        vertical-align: middle;\n",
              "    }\n",
              "\n",
              "    .dataframe tbody tr th {\n",
              "        vertical-align: top;\n",
              "    }\n",
              "\n",
              "    .dataframe thead th {\n",
              "        text-align: right;\n",
              "    }\n",
              "</style>\n",
              "<table border=\"1\" class=\"dataframe\">\n",
              "  <thead>\n",
              "    <tr style=\"text-align: right;\">\n",
              "      <th></th>\n",
              "      <th>No.</th>\n",
              "      <th>Nama</th>\n",
              "      <th>Kekayaan bersih (USD)</th>\n",
              "      <th>Usia</th>\n",
              "      <th>Kebangsaan</th>\n",
              "      <th>Sumber kekayaan</th>\n",
              "    </tr>\n",
              "  </thead>\n",
              "  <tbody>\n",
              "    <tr>\n",
              "      <th>0</th>\n",
              "      <td>NaN</td>\n",
              "      <td>Jeff Bezos</td>\n",
              "      <td>$177 miliar</td>\n",
              "      <td>57</td>\n",
              "      <td>Amerika Serikat</td>\n",
              "      <td>Amazon</td>\n",
              "    </tr>\n",
              "    <tr>\n",
              "      <th>1</th>\n",
              "      <td>NaN</td>\n",
              "      <td>Elon Musk</td>\n",
              "      <td>$151 miliar</td>\n",
              "      <td>49</td>\n",
              "      <td>Amerika Serikat</td>\n",
              "      <td>Tesla, SpaceX</td>\n",
              "    </tr>\n",
              "    <tr>\n",
              "      <th>2</th>\n",
              "      <td>NaN</td>\n",
              "      <td>Bernard Arnault &amp; keluarga</td>\n",
              "      <td>$150 miliar</td>\n",
              "      <td>72</td>\n",
              "      <td>Prancis</td>\n",
              "      <td>LVMH</td>\n",
              "    </tr>\n",
              "    <tr>\n",
              "      <th>3</th>\n",
              "      <td>NaN</td>\n",
              "      <td>Bill Gates</td>\n",
              "      <td>$124 miliar</td>\n",
              "      <td>65</td>\n",
              "      <td>Amerika Serikat</td>\n",
              "      <td>Microsoft</td>\n",
              "    </tr>\n",
              "    <tr>\n",
              "      <th>4</th>\n",
              "      <td>NaN</td>\n",
              "      <td>Mark Zuckerberg</td>\n",
              "      <td>$97 miliar</td>\n",
              "      <td>36</td>\n",
              "      <td>Amerika Serikat</td>\n",
              "      <td>Meta Platforms</td>\n",
              "    </tr>\n",
              "    <tr>\n",
              "      <th>5</th>\n",
              "      <td>NaN</td>\n",
              "      <td>Warren Buffett</td>\n",
              "      <td>$96 miliar</td>\n",
              "      <td>90</td>\n",
              "      <td>Amerika Serikat</td>\n",
              "      <td>Berkshire Hathaway</td>\n",
              "    </tr>\n",
              "    <tr>\n",
              "      <th>6</th>\n",
              "      <td>NaN</td>\n",
              "      <td>Larry Ellison</td>\n",
              "      <td>$93 miliar</td>\n",
              "      <td>76</td>\n",
              "      <td>Amerika Serikat</td>\n",
              "      <td>Oracle Corporation</td>\n",
              "    </tr>\n",
              "    <tr>\n",
              "      <th>7</th>\n",
              "      <td>NaN</td>\n",
              "      <td>Larry Page</td>\n",
              "      <td>$91.5 miliar</td>\n",
              "      <td>48</td>\n",
              "      <td>Amerika Serikat</td>\n",
              "      <td>Alphabet Inc.</td>\n",
              "    </tr>\n",
              "    <tr>\n",
              "      <th>8</th>\n",
              "      <td>NaN</td>\n",
              "      <td>Sergey Brin</td>\n",
              "      <td>$89 miliar</td>\n",
              "      <td>47</td>\n",
              "      <td>Amerika Serikat</td>\n",
              "      <td>Alphabet Inc.</td>\n",
              "    </tr>\n",
              "    <tr>\n",
              "      <th>9</th>\n",
              "      <td>NaN</td>\n",
              "      <td>Mukesh Ambani</td>\n",
              "      <td>$84.5 miliar</td>\n",
              "      <td>63</td>\n",
              "      <td>India</td>\n",
              "      <td>Reliance Industries</td>\n",
              "    </tr>\n",
              "  </tbody>\n",
              "</table>\n",
              "</div>\n",
              "      <button class=\"colab-df-convert\" onclick=\"convertToInteractive('df-928504af-f49f-4b93-b50e-96f082c7e7ce')\"\n",
              "              title=\"Convert this dataframe to an interactive table.\"\n",
              "              style=\"display:none;\">\n",
              "        \n",
              "  <svg xmlns=\"http://www.w3.org/2000/svg\" height=\"24px\"viewBox=\"0 0 24 24\"\n",
              "       width=\"24px\">\n",
              "    <path d=\"M0 0h24v24H0V0z\" fill=\"none\"/>\n",
              "    <path d=\"M18.56 5.44l.94 2.06.94-2.06 2.06-.94-2.06-.94-.94-2.06-.94 2.06-2.06.94zm-11 1L8.5 8.5l.94-2.06 2.06-.94-2.06-.94L8.5 2.5l-.94 2.06-2.06.94zm10 10l.94 2.06.94-2.06 2.06-.94-2.06-.94-.94-2.06-.94 2.06-2.06.94z\"/><path d=\"M17.41 7.96l-1.37-1.37c-.4-.4-.92-.59-1.43-.59-.52 0-1.04.2-1.43.59L10.3 9.45l-7.72 7.72c-.78.78-.78 2.05 0 2.83L4 21.41c.39.39.9.59 1.41.59.51 0 1.02-.2 1.41-.59l7.78-7.78 2.81-2.81c.8-.78.8-2.07 0-2.86zM5.41 20L4 18.59l7.72-7.72 1.47 1.35L5.41 20z\"/>\n",
              "  </svg>\n",
              "      </button>\n",
              "      \n",
              "  <style>\n",
              "    .colab-df-container {\n",
              "      display:flex;\n",
              "      flex-wrap:wrap;\n",
              "      gap: 12px;\n",
              "    }\n",
              "\n",
              "    .colab-df-convert {\n",
              "      background-color: #E8F0FE;\n",
              "      border: none;\n",
              "      border-radius: 50%;\n",
              "      cursor: pointer;\n",
              "      display: none;\n",
              "      fill: #1967D2;\n",
              "      height: 32px;\n",
              "      padding: 0 0 0 0;\n",
              "      width: 32px;\n",
              "    }\n",
              "\n",
              "    .colab-df-convert:hover {\n",
              "      background-color: #E2EBFA;\n",
              "      box-shadow: 0px 1px 2px rgba(60, 64, 67, 0.3), 0px 1px 3px 1px rgba(60, 64, 67, 0.15);\n",
              "      fill: #174EA6;\n",
              "    }\n",
              "\n",
              "    [theme=dark] .colab-df-convert {\n",
              "      background-color: #3B4455;\n",
              "      fill: #D2E3FC;\n",
              "    }\n",
              "\n",
              "    [theme=dark] .colab-df-convert:hover {\n",
              "      background-color: #434B5C;\n",
              "      box-shadow: 0px 1px 3px 1px rgba(0, 0, 0, 0.15);\n",
              "      filter: drop-shadow(0px 1px 2px rgba(0, 0, 0, 0.3));\n",
              "      fill: #FFFFFF;\n",
              "    }\n",
              "  </style>\n",
              "\n",
              "      <script>\n",
              "        const buttonEl =\n",
              "          document.querySelector('#df-928504af-f49f-4b93-b50e-96f082c7e7ce button.colab-df-convert');\n",
              "        buttonEl.style.display =\n",
              "          google.colab.kernel.accessAllowed ? 'block' : 'none';\n",
              "\n",
              "        async function convertToInteractive(key) {\n",
              "          const element = document.querySelector('#df-928504af-f49f-4b93-b50e-96f082c7e7ce');\n",
              "          const dataTable =\n",
              "            await google.colab.kernel.invokeFunction('convertToInteractive',\n",
              "                                                     [key], {});\n",
              "          if (!dataTable) return;\n",
              "\n",
              "          const docLinkHtml = 'Like what you see? Visit the ' +\n",
              "            '<a target=\"_blank\" href=https://colab.research.google.com/notebooks/data_table.ipynb>data table notebook</a>'\n",
              "            + ' to learn more about interactive tables.';\n",
              "          element.innerHTML = '';\n",
              "          dataTable['output_type'] = 'display_data';\n",
              "          await google.colab.output.renderOutput(dataTable, element);\n",
              "          const docLink = document.createElement('div');\n",
              "          docLink.innerHTML = docLinkHtml;\n",
              "          element.appendChild(docLink);\n",
              "        }\n",
              "      </script>\n",
              "    </div>\n",
              "  </div>\n",
              "  "
            ],
            "text/plain": [
              "   No.                        Nama  ...       Kebangsaan      Sumber kekayaan\n",
              "0  NaN                  Jeff Bezos  ...  Amerika Serikat               Amazon\n",
              "1  NaN                   Elon Musk  ...  Amerika Serikat        Tesla, SpaceX\n",
              "2  NaN  Bernard Arnault & keluarga  ...          Prancis                 LVMH\n",
              "3  NaN                  Bill Gates  ...  Amerika Serikat            Microsoft\n",
              "4  NaN             Mark Zuckerberg  ...  Amerika Serikat       Meta Platforms\n",
              "5  NaN              Warren Buffett  ...  Amerika Serikat   Berkshire Hathaway\n",
              "6  NaN               Larry Ellison  ...  Amerika Serikat   Oracle Corporation\n",
              "7  NaN                  Larry Page  ...  Amerika Serikat        Alphabet Inc.\n",
              "8  NaN                 Sergey Brin  ...  Amerika Serikat        Alphabet Inc.\n",
              "9  NaN               Mukesh Ambani  ...            India  Reliance Industries\n",
              "\n",
              "[10 rows x 6 columns]"
            ]
          },
          "metadata": {},
          "execution_count": 30
        }
      ]
    },
    {
      "cell_type": "code",
      "source": [
        "import re"
      ],
      "metadata": {
        "id": "bkZRjHMMEY_4"
      },
      "execution_count": null,
      "outputs": []
    },
    {
      "cell_type": "code",
      "source": [
        "def is_money_miliar(string_money):\n",
        "  return string_money.lower().endswith('miliar')"
      ],
      "metadata": {
        "id": "o3TzQDEGHC5n"
      },
      "execution_count": null,
      "outputs": []
    },
    {
      "cell_type": "code",
      "source": [
        "def transform_money_format(string_money):\n",
        "  half_clean_string = string_money.lower().replace(\"$\",\"miliar\").replace(\" \",\"\")\n",
        "\n",
        "  return re.sub(r\"[?\\[M\\]miliar|\\[J\\]juta]\", \"\", half_clean_string)"
      ],
      "metadata": {
        "id": "dJVwj2bJIbqD"
      },
      "execution_count": null,
      "outputs": []
    },
    {
      "cell_type": "code",
      "source": [
        "def transform(df, tahun):\n",
        "    logging.info(\"transforming DataFrame ...\")\n",
        "    \n",
        "    columns_mapping = {\n",
        "        \"No.\" : \"nomor_urut\",\n",
        "        \"Nama\" : \"nama\",\n",
        "        \"Kekayaan bersih (USD)\": \"kekayaan_bersih_usd\",\n",
        "        \"Usia\" : \"usia\",\n",
        "        \"Kebangsaan\" : \"kebangsaan\",\n",
        "        \"Sumber kekayaan\" : \"sumber_kekayaan\"\n",
        "    }\n",
        "\n",
        "    renamed_df = df.rename(columns = columns_mapping)\n",
        "\n",
        "    renamed_df [\"tahun\"] = tahun\n",
        "\n",
        "    renamed_df[\"kekayaan_bersih_usd_juta\"] = renamed_df[\"kekayaan_bersih_usd\"].apply(\n",
        "        lambda value: float(transform_money_format(value)) *1000 if is_money_miliar(value) else float(transform_money_format(value))\n",
        "    )\n",
        "\n",
        "    return renamed_df[[\"nomor_urut\", \"nama\", \"kekayaan_bersih_usd_juta\", \"usia\", \"kebangsaan\", \"sumber_kekayaan\"]]"
      ],
      "metadata": {
        "id": "dfVX2-xvHq_q"
      },
      "execution_count": null,
      "outputs": []
    },
    {
      "cell_type": "code",
      "source": [
        "df_2021 = transform(dfs, 2021)"
      ],
      "metadata": {
        "colab": {
          "base_uri": "https://localhost:8080/"
        },
        "id": "Jv6zHgINJdmf",
        "outputId": "f67441be-8f4f-4dc0-9327-2133c77980a9"
      },
      "execution_count": null,
      "outputs": [
        {
          "output_type": "stream",
          "name": "stderr",
          "text": [
            "INFO:root:transforming DataFrame ...\n"
          ]
        }
      ]
    },
    {
      "cell_type": "code",
      "source": [
        "df_2021"
      ],
      "metadata": {
        "colab": {
          "base_uri": "https://localhost:8080/",
          "height": 363
        },
        "id": "rlUxBj_GPxmz",
        "outputId": "20437ba1-b5b5-4ca3-f815-32115571e14f"
      },
      "execution_count": null,
      "outputs": [
        {
          "output_type": "execute_result",
          "data": {
            "text/html": [
              "\n",
              "  <div id=\"df-9c5c915e-7057-47a6-9c51-1aa913118f9e\">\n",
              "    <div class=\"colab-df-container\">\n",
              "      <div>\n",
              "<style scoped>\n",
              "    .dataframe tbody tr th:only-of-type {\n",
              "        vertical-align: middle;\n",
              "    }\n",
              "\n",
              "    .dataframe tbody tr th {\n",
              "        vertical-align: top;\n",
              "    }\n",
              "\n",
              "    .dataframe thead th {\n",
              "        text-align: right;\n",
              "    }\n",
              "</style>\n",
              "<table border=\"1\" class=\"dataframe\">\n",
              "  <thead>\n",
              "    <tr style=\"text-align: right;\">\n",
              "      <th></th>\n",
              "      <th>nomor_urut</th>\n",
              "      <th>nama</th>\n",
              "      <th>kekayaan_bersih_usd_juta</th>\n",
              "      <th>usia</th>\n",
              "      <th>kebangsaan</th>\n",
              "      <th>sumber_kekayaan</th>\n",
              "    </tr>\n",
              "  </thead>\n",
              "  <tbody>\n",
              "    <tr>\n",
              "      <th>0</th>\n",
              "      <td>NaN</td>\n",
              "      <td>Jeff Bezos</td>\n",
              "      <td>177000.0</td>\n",
              "      <td>57</td>\n",
              "      <td>Amerika Serikat</td>\n",
              "      <td>Amazon</td>\n",
              "    </tr>\n",
              "    <tr>\n",
              "      <th>1</th>\n",
              "      <td>NaN</td>\n",
              "      <td>Elon Musk</td>\n",
              "      <td>151000.0</td>\n",
              "      <td>49</td>\n",
              "      <td>Amerika Serikat</td>\n",
              "      <td>Tesla, SpaceX</td>\n",
              "    </tr>\n",
              "    <tr>\n",
              "      <th>2</th>\n",
              "      <td>NaN</td>\n",
              "      <td>Bernard Arnault &amp; keluarga</td>\n",
              "      <td>150000.0</td>\n",
              "      <td>72</td>\n",
              "      <td>Prancis</td>\n",
              "      <td>LVMH</td>\n",
              "    </tr>\n",
              "    <tr>\n",
              "      <th>3</th>\n",
              "      <td>NaN</td>\n",
              "      <td>Bill Gates</td>\n",
              "      <td>124000.0</td>\n",
              "      <td>65</td>\n",
              "      <td>Amerika Serikat</td>\n",
              "      <td>Microsoft</td>\n",
              "    </tr>\n",
              "    <tr>\n",
              "      <th>4</th>\n",
              "      <td>NaN</td>\n",
              "      <td>Mark Zuckerberg</td>\n",
              "      <td>97000.0</td>\n",
              "      <td>36</td>\n",
              "      <td>Amerika Serikat</td>\n",
              "      <td>Meta Platforms</td>\n",
              "    </tr>\n",
              "    <tr>\n",
              "      <th>5</th>\n",
              "      <td>NaN</td>\n",
              "      <td>Warren Buffett</td>\n",
              "      <td>96000.0</td>\n",
              "      <td>90</td>\n",
              "      <td>Amerika Serikat</td>\n",
              "      <td>Berkshire Hathaway</td>\n",
              "    </tr>\n",
              "    <tr>\n",
              "      <th>6</th>\n",
              "      <td>NaN</td>\n",
              "      <td>Larry Ellison</td>\n",
              "      <td>93000.0</td>\n",
              "      <td>76</td>\n",
              "      <td>Amerika Serikat</td>\n",
              "      <td>Oracle Corporation</td>\n",
              "    </tr>\n",
              "    <tr>\n",
              "      <th>7</th>\n",
              "      <td>NaN</td>\n",
              "      <td>Larry Page</td>\n",
              "      <td>91500.0</td>\n",
              "      <td>48</td>\n",
              "      <td>Amerika Serikat</td>\n",
              "      <td>Alphabet Inc.</td>\n",
              "    </tr>\n",
              "    <tr>\n",
              "      <th>8</th>\n",
              "      <td>NaN</td>\n",
              "      <td>Sergey Brin</td>\n",
              "      <td>89000.0</td>\n",
              "      <td>47</td>\n",
              "      <td>Amerika Serikat</td>\n",
              "      <td>Alphabet Inc.</td>\n",
              "    </tr>\n",
              "    <tr>\n",
              "      <th>9</th>\n",
              "      <td>NaN</td>\n",
              "      <td>Mukesh Ambani</td>\n",
              "      <td>84500.0</td>\n",
              "      <td>63</td>\n",
              "      <td>India</td>\n",
              "      <td>Reliance Industries</td>\n",
              "    </tr>\n",
              "  </tbody>\n",
              "</table>\n",
              "</div>\n",
              "      <button class=\"colab-df-convert\" onclick=\"convertToInteractive('df-9c5c915e-7057-47a6-9c51-1aa913118f9e')\"\n",
              "              title=\"Convert this dataframe to an interactive table.\"\n",
              "              style=\"display:none;\">\n",
              "        \n",
              "  <svg xmlns=\"http://www.w3.org/2000/svg\" height=\"24px\"viewBox=\"0 0 24 24\"\n",
              "       width=\"24px\">\n",
              "    <path d=\"M0 0h24v24H0V0z\" fill=\"none\"/>\n",
              "    <path d=\"M18.56 5.44l.94 2.06.94-2.06 2.06-.94-2.06-.94-.94-2.06-.94 2.06-2.06.94zm-11 1L8.5 8.5l.94-2.06 2.06-.94-2.06-.94L8.5 2.5l-.94 2.06-2.06.94zm10 10l.94 2.06.94-2.06 2.06-.94-2.06-.94-.94-2.06-.94 2.06-2.06.94z\"/><path d=\"M17.41 7.96l-1.37-1.37c-.4-.4-.92-.59-1.43-.59-.52 0-1.04.2-1.43.59L10.3 9.45l-7.72 7.72c-.78.78-.78 2.05 0 2.83L4 21.41c.39.39.9.59 1.41.59.51 0 1.02-.2 1.41-.59l7.78-7.78 2.81-2.81c.8-.78.8-2.07 0-2.86zM5.41 20L4 18.59l7.72-7.72 1.47 1.35L5.41 20z\"/>\n",
              "  </svg>\n",
              "      </button>\n",
              "      \n",
              "  <style>\n",
              "    .colab-df-container {\n",
              "      display:flex;\n",
              "      flex-wrap:wrap;\n",
              "      gap: 12px;\n",
              "    }\n",
              "\n",
              "    .colab-df-convert {\n",
              "      background-color: #E8F0FE;\n",
              "      border: none;\n",
              "      border-radius: 50%;\n",
              "      cursor: pointer;\n",
              "      display: none;\n",
              "      fill: #1967D2;\n",
              "      height: 32px;\n",
              "      padding: 0 0 0 0;\n",
              "      width: 32px;\n",
              "    }\n",
              "\n",
              "    .colab-df-convert:hover {\n",
              "      background-color: #E2EBFA;\n",
              "      box-shadow: 0px 1px 2px rgba(60, 64, 67, 0.3), 0px 1px 3px 1px rgba(60, 64, 67, 0.15);\n",
              "      fill: #174EA6;\n",
              "    }\n",
              "\n",
              "    [theme=dark] .colab-df-convert {\n",
              "      background-color: #3B4455;\n",
              "      fill: #D2E3FC;\n",
              "    }\n",
              "\n",
              "    [theme=dark] .colab-df-convert:hover {\n",
              "      background-color: #434B5C;\n",
              "      box-shadow: 0px 1px 3px 1px rgba(0, 0, 0, 0.15);\n",
              "      filter: drop-shadow(0px 1px 2px rgba(0, 0, 0, 0.3));\n",
              "      fill: #FFFFFF;\n",
              "    }\n",
              "  </style>\n",
              "\n",
              "      <script>\n",
              "        const buttonEl =\n",
              "          document.querySelector('#df-9c5c915e-7057-47a6-9c51-1aa913118f9e button.colab-df-convert');\n",
              "        buttonEl.style.display =\n",
              "          google.colab.kernel.accessAllowed ? 'block' : 'none';\n",
              "\n",
              "        async function convertToInteractive(key) {\n",
              "          const element = document.querySelector('#df-9c5c915e-7057-47a6-9c51-1aa913118f9e');\n",
              "          const dataTable =\n",
              "            await google.colab.kernel.invokeFunction('convertToInteractive',\n",
              "                                                     [key], {});\n",
              "          if (!dataTable) return;\n",
              "\n",
              "          const docLinkHtml = 'Like what you see? Visit the ' +\n",
              "            '<a target=\"_blank\" href=https://colab.research.google.com/notebooks/data_table.ipynb>data table notebook</a>'\n",
              "            + ' to learn more about interactive tables.';\n",
              "          element.innerHTML = '';\n",
              "          dataTable['output_type'] = 'display_data';\n",
              "          await google.colab.output.renderOutput(dataTable, element);\n",
              "          const docLink = document.createElement('div');\n",
              "          docLink.innerHTML = docLinkHtml;\n",
              "          element.appendChild(docLink);\n",
              "        }\n",
              "      </script>\n",
              "    </div>\n",
              "  </div>\n",
              "  "
            ],
            "text/plain": [
              "   nomor_urut                        nama  ...       kebangsaan      sumber_kekayaan\n",
              "0         NaN                  Jeff Bezos  ...  Amerika Serikat               Amazon\n",
              "1         NaN                   Elon Musk  ...  Amerika Serikat        Tesla, SpaceX\n",
              "2         NaN  Bernard Arnault & keluarga  ...          Prancis                 LVMH\n",
              "3         NaN                  Bill Gates  ...  Amerika Serikat            Microsoft\n",
              "4         NaN             Mark Zuckerberg  ...  Amerika Serikat       Meta Platforms\n",
              "5         NaN              Warren Buffett  ...  Amerika Serikat   Berkshire Hathaway\n",
              "6         NaN               Larry Ellison  ...  Amerika Serikat   Oracle Corporation\n",
              "7         NaN                  Larry Page  ...  Amerika Serikat        Alphabet Inc.\n",
              "8         NaN                 Sergey Brin  ...  Amerika Serikat        Alphabet Inc.\n",
              "9         NaN               Mukesh Ambani  ...            India  Reliance Industries\n",
              "\n",
              "[10 rows x 6 columns]"
            ]
          },
          "metadata": {},
          "execution_count": 38
        }
      ]
    },
    {
      "cell_type": "code",
      "source": [
        "pip install psycopg2-binary==2.8.6"
      ],
      "metadata": {
        "colab": {
          "base_uri": "https://localhost:8080/"
        },
        "id": "GZYrD3vPEkU0",
        "outputId": "31be9ce1-70d1-4097-867f-b67152294d34"
      },
      "execution_count": null,
      "outputs": [
        {
          "output_type": "stream",
          "name": "stdout",
          "text": [
            "Collecting psycopg2-binary==2.8.6\n",
            "  Downloading psycopg2_binary-2.8.6-cp37-cp37m-manylinux1_x86_64.whl (3.0 MB)\n",
            "\u001b[?25l\r\u001b[K     |                                | 10 kB 23.3 MB/s eta 0:00:01\r\u001b[K     |▏                               | 20 kB 26.4 MB/s eta 0:00:01\r\u001b[K     |▎                               | 30 kB 30.4 MB/s eta 0:00:01\r\u001b[K     |▍                               | 40 kB 25.9 MB/s eta 0:00:01\r\u001b[K     |▌                               | 51 kB 20.6 MB/s eta 0:00:01\r\u001b[K     |▋                               | 61 kB 23.5 MB/s eta 0:00:01\r\u001b[K     |▊                               | 71 kB 21.6 MB/s eta 0:00:01\r\u001b[K     |▉                               | 81 kB 22.9 MB/s eta 0:00:01\r\u001b[K     |█                               | 92 kB 24.9 MB/s eta 0:00:01\r\u001b[K     |█                               | 102 kB 26.2 MB/s eta 0:00:01\r\u001b[K     |█▏                              | 112 kB 26.2 MB/s eta 0:00:01\r\u001b[K     |█▎                              | 122 kB 26.2 MB/s eta 0:00:01\r\u001b[K     |█▍                              | 133 kB 26.2 MB/s eta 0:00:01\r\u001b[K     |█▌                              | 143 kB 26.2 MB/s eta 0:00:01\r\u001b[K     |█▋                              | 153 kB 26.2 MB/s eta 0:00:01\r\u001b[K     |█▊                              | 163 kB 26.2 MB/s eta 0:00:01\r\u001b[K     |█▉                              | 174 kB 26.2 MB/s eta 0:00:01\r\u001b[K     |██                              | 184 kB 26.2 MB/s eta 0:00:01\r\u001b[K     |██                              | 194 kB 26.2 MB/s eta 0:00:01\r\u001b[K     |██▏                             | 204 kB 26.2 MB/s eta 0:00:01\r\u001b[K     |██▎                             | 215 kB 26.2 MB/s eta 0:00:01\r\u001b[K     |██▍                             | 225 kB 26.2 MB/s eta 0:00:01\r\u001b[K     |██▌                             | 235 kB 26.2 MB/s eta 0:00:01\r\u001b[K     |██▋                             | 245 kB 26.2 MB/s eta 0:00:01\r\u001b[K     |██▊                             | 256 kB 26.2 MB/s eta 0:00:01\r\u001b[K     |██▉                             | 266 kB 26.2 MB/s eta 0:00:01\r\u001b[K     |███                             | 276 kB 26.2 MB/s eta 0:00:01\r\u001b[K     |███                             | 286 kB 26.2 MB/s eta 0:00:01\r\u001b[K     |███▏                            | 296 kB 26.2 MB/s eta 0:00:01\r\u001b[K     |███▎                            | 307 kB 26.2 MB/s eta 0:00:01\r\u001b[K     |███▍                            | 317 kB 26.2 MB/s eta 0:00:01\r\u001b[K     |███▌                            | 327 kB 26.2 MB/s eta 0:00:01\r\u001b[K     |███▋                            | 337 kB 26.2 MB/s eta 0:00:01\r\u001b[K     |███▊                            | 348 kB 26.2 MB/s eta 0:00:01\r\u001b[K     |███▉                            | 358 kB 26.2 MB/s eta 0:00:01\r\u001b[K     |████                            | 368 kB 26.2 MB/s eta 0:00:01\r\u001b[K     |████                            | 378 kB 26.2 MB/s eta 0:00:01\r\u001b[K     |████▏                           | 389 kB 26.2 MB/s eta 0:00:01\r\u001b[K     |████▎                           | 399 kB 26.2 MB/s eta 0:00:01\r\u001b[K     |████▍                           | 409 kB 26.2 MB/s eta 0:00:01\r\u001b[K     |████▌                           | 419 kB 26.2 MB/s eta 0:00:01\r\u001b[K     |████▋                           | 430 kB 26.2 MB/s eta 0:00:01\r\u001b[K     |████▊                           | 440 kB 26.2 MB/s eta 0:00:01\r\u001b[K     |████▉                           | 450 kB 26.2 MB/s eta 0:00:01\r\u001b[K     |█████                           | 460 kB 26.2 MB/s eta 0:00:01\r\u001b[K     |█████                           | 471 kB 26.2 MB/s eta 0:00:01\r\u001b[K     |█████▏                          | 481 kB 26.2 MB/s eta 0:00:01\r\u001b[K     |█████▎                          | 491 kB 26.2 MB/s eta 0:00:01\r\u001b[K     |█████▍                          | 501 kB 26.2 MB/s eta 0:00:01\r\u001b[K     |█████▌                          | 512 kB 26.2 MB/s eta 0:00:01\r\u001b[K     |█████▋                          | 522 kB 26.2 MB/s eta 0:00:01\r\u001b[K     |█████▊                          | 532 kB 26.2 MB/s eta 0:00:01\r\u001b[K     |█████▉                          | 542 kB 26.2 MB/s eta 0:00:01\r\u001b[K     |██████                          | 552 kB 26.2 MB/s eta 0:00:01\r\u001b[K     |██████                          | 563 kB 26.2 MB/s eta 0:00:01\r\u001b[K     |██████▏                         | 573 kB 26.2 MB/s eta 0:00:01\r\u001b[K     |██████▎                         | 583 kB 26.2 MB/s eta 0:00:01\r\u001b[K     |██████▍                         | 593 kB 26.2 MB/s eta 0:00:01\r\u001b[K     |██████▌                         | 604 kB 26.2 MB/s eta 0:00:01\r\u001b[K     |██████▋                         | 614 kB 26.2 MB/s eta 0:00:01\r\u001b[K     |██████▊                         | 624 kB 26.2 MB/s eta 0:00:01\r\u001b[K     |██████▉                         | 634 kB 26.2 MB/s eta 0:00:01\r\u001b[K     |███████                         | 645 kB 26.2 MB/s eta 0:00:01\r\u001b[K     |███████                         | 655 kB 26.2 MB/s eta 0:00:01\r\u001b[K     |███████▏                        | 665 kB 26.2 MB/s eta 0:00:01\r\u001b[K     |███████▎                        | 675 kB 26.2 MB/s eta 0:00:01\r\u001b[K     |███████▍                        | 686 kB 26.2 MB/s eta 0:00:01\r\u001b[K     |███████▌                        | 696 kB 26.2 MB/s eta 0:00:01\r\u001b[K     |███████▋                        | 706 kB 26.2 MB/s eta 0:00:01\r\u001b[K     |███████▊                        | 716 kB 26.2 MB/s eta 0:00:01\r\u001b[K     |███████▉                        | 727 kB 26.2 MB/s eta 0:00:01\r\u001b[K     |████████                        | 737 kB 26.2 MB/s eta 0:00:01\r\u001b[K     |████████                        | 747 kB 26.2 MB/s eta 0:00:01\r\u001b[K     |████████▏                       | 757 kB 26.2 MB/s eta 0:00:01\r\u001b[K     |████████▎                       | 768 kB 26.2 MB/s eta 0:00:01\r\u001b[K     |████████▍                       | 778 kB 26.2 MB/s eta 0:00:01\r\u001b[K     |████████▌                       | 788 kB 26.2 MB/s eta 0:00:01\r\u001b[K     |████████▋                       | 798 kB 26.2 MB/s eta 0:00:01\r\u001b[K     |████████▊                       | 808 kB 26.2 MB/s eta 0:00:01\r\u001b[K     |████████▉                       | 819 kB 26.2 MB/s eta 0:00:01\r\u001b[K     |█████████                       | 829 kB 26.2 MB/s eta 0:00:01\r\u001b[K     |█████████                       | 839 kB 26.2 MB/s eta 0:00:01\r\u001b[K     |█████████▏                      | 849 kB 26.2 MB/s eta 0:00:01\r\u001b[K     |█████████▎                      | 860 kB 26.2 MB/s eta 0:00:01\r\u001b[K     |█████████▍                      | 870 kB 26.2 MB/s eta 0:00:01\r\u001b[K     |█████████▌                      | 880 kB 26.2 MB/s eta 0:00:01\r\u001b[K     |█████████▋                      | 890 kB 26.2 MB/s eta 0:00:01\r\u001b[K     |█████████▊                      | 901 kB 26.2 MB/s eta 0:00:01\r\u001b[K     |█████████▉                      | 911 kB 26.2 MB/s eta 0:00:01\r\u001b[K     |██████████                      | 921 kB 26.2 MB/s eta 0:00:01\r\u001b[K     |██████████                      | 931 kB 26.2 MB/s eta 0:00:01\r\u001b[K     |██████████▏                     | 942 kB 26.2 MB/s eta 0:00:01\r\u001b[K     |██████████▎                     | 952 kB 26.2 MB/s eta 0:00:01\r\u001b[K     |██████████▍                     | 962 kB 26.2 MB/s eta 0:00:01\r\u001b[K     |██████████▌                     | 972 kB 26.2 MB/s eta 0:00:01\r\u001b[K     |██████████▋                     | 983 kB 26.2 MB/s eta 0:00:01\r\u001b[K     |██████████▊                     | 993 kB 26.2 MB/s eta 0:00:01\r\u001b[K     |██████████▉                     | 1.0 MB 26.2 MB/s eta 0:00:01\r\u001b[K     |███████████                     | 1.0 MB 26.2 MB/s eta 0:00:01\r\u001b[K     |███████████                     | 1.0 MB 26.2 MB/s eta 0:00:01\r\u001b[K     |███████████▏                    | 1.0 MB 26.2 MB/s eta 0:00:01\r\u001b[K     |███████████▎                    | 1.0 MB 26.2 MB/s eta 0:00:01\r\u001b[K     |███████████▍                    | 1.1 MB 26.2 MB/s eta 0:00:01\r\u001b[K     |███████████▌                    | 1.1 MB 26.2 MB/s eta 0:00:01\r\u001b[K     |███████████▋                    | 1.1 MB 26.2 MB/s eta 0:00:01\r\u001b[K     |███████████▊                    | 1.1 MB 26.2 MB/s eta 0:00:01\r\u001b[K     |███████████▉                    | 1.1 MB 26.2 MB/s eta 0:00:01\r\u001b[K     |████████████                    | 1.1 MB 26.2 MB/s eta 0:00:01\r\u001b[K     |████████████                    | 1.1 MB 26.2 MB/s eta 0:00:01\r\u001b[K     |████████████▏                   | 1.1 MB 26.2 MB/s eta 0:00:01\r\u001b[K     |████████████▎                   | 1.1 MB 26.2 MB/s eta 0:00:01\r\u001b[K     |████████████▍                   | 1.1 MB 26.2 MB/s eta 0:00:01\r\u001b[K     |████████████▌                   | 1.2 MB 26.2 MB/s eta 0:00:01\r\u001b[K     |████████████▋                   | 1.2 MB 26.2 MB/s eta 0:00:01\r\u001b[K     |████████████▊                   | 1.2 MB 26.2 MB/s eta 0:00:01\r\u001b[K     |████████████▉                   | 1.2 MB 26.2 MB/s eta 0:00:01\r\u001b[K     |█████████████                   | 1.2 MB 26.2 MB/s eta 0:00:01\r\u001b[K     |█████████████                   | 1.2 MB 26.2 MB/s eta 0:00:01\r\u001b[K     |█████████████▏                  | 1.2 MB 26.2 MB/s eta 0:00:01\r\u001b[K     |█████████████▎                  | 1.2 MB 26.2 MB/s eta 0:00:01\r\u001b[K     |█████████████▍                  | 1.2 MB 26.2 MB/s eta 0:00:01\r\u001b[K     |█████████████▌                  | 1.2 MB 26.2 MB/s eta 0:00:01\r\u001b[K     |█████████████▋                  | 1.3 MB 26.2 MB/s eta 0:00:01\r\u001b[K     |█████████████▊                  | 1.3 MB 26.2 MB/s eta 0:00:01\r\u001b[K     |█████████████▉                  | 1.3 MB 26.2 MB/s eta 0:00:01\r\u001b[K     |██████████████                  | 1.3 MB 26.2 MB/s eta 0:00:01\r\u001b[K     |██████████████                  | 1.3 MB 26.2 MB/s eta 0:00:01\r\u001b[K     |██████████████▏                 | 1.3 MB 26.2 MB/s eta 0:00:01\r\u001b[K     |██████████████▎                 | 1.3 MB 26.2 MB/s eta 0:00:01\r\u001b[K     |██████████████▍                 | 1.3 MB 26.2 MB/s eta 0:00:01\r\u001b[K     |██████████████▌                 | 1.3 MB 26.2 MB/s eta 0:00:01\r\u001b[K     |██████████████▋                 | 1.4 MB 26.2 MB/s eta 0:00:01\r\u001b[K     |██████████████▊                 | 1.4 MB 26.2 MB/s eta 0:00:01\r\u001b[K     |██████████████▉                 | 1.4 MB 26.2 MB/s eta 0:00:01\r\u001b[K     |███████████████                 | 1.4 MB 26.2 MB/s eta 0:00:01\r\u001b[K     |███████████████                 | 1.4 MB 26.2 MB/s eta 0:00:01\r\u001b[K     |███████████████▏                | 1.4 MB 26.2 MB/s eta 0:00:01\r\u001b[K     |███████████████▎                | 1.4 MB 26.2 MB/s eta 0:00:01\r\u001b[K     |███████████████▍                | 1.4 MB 26.2 MB/s eta 0:00:01\r\u001b[K     |███████████████▌                | 1.4 MB 26.2 MB/s eta 0:00:01\r\u001b[K     |███████████████▋                | 1.4 MB 26.2 MB/s eta 0:00:01\r\u001b[K     |███████████████▊                | 1.5 MB 26.2 MB/s eta 0:00:01\r\u001b[K     |███████████████▉                | 1.5 MB 26.2 MB/s eta 0:00:01\r\u001b[K     |████████████████                | 1.5 MB 26.2 MB/s eta 0:00:01\r\u001b[K     |████████████████                | 1.5 MB 26.2 MB/s eta 0:00:01\r\u001b[K     |████████████████▏               | 1.5 MB 26.2 MB/s eta 0:00:01\r\u001b[K     |████████████████▎               | 1.5 MB 26.2 MB/s eta 0:00:01\r\u001b[K     |████████████████▍               | 1.5 MB 26.2 MB/s eta 0:00:01\r\u001b[K     |████████████████▌               | 1.5 MB 26.2 MB/s eta 0:00:01\r\u001b[K     |████████████████▋               | 1.5 MB 26.2 MB/s eta 0:00:01\r\u001b[K     |████████████████▊               | 1.5 MB 26.2 MB/s eta 0:00:01\r\u001b[K     |████████████████▉               | 1.6 MB 26.2 MB/s eta 0:00:01\r\u001b[K     |█████████████████               | 1.6 MB 26.2 MB/s eta 0:00:01\r\u001b[K     |█████████████████               | 1.6 MB 26.2 MB/s eta 0:00:01\r\u001b[K     |█████████████████▏              | 1.6 MB 26.2 MB/s eta 0:00:01\r\u001b[K     |█████████████████▎              | 1.6 MB 26.2 MB/s eta 0:00:01\r\u001b[K     |█████████████████▍              | 1.6 MB 26.2 MB/s eta 0:00:01\r\u001b[K     |█████████████████▌              | 1.6 MB 26.2 MB/s eta 0:00:01\r\u001b[K     |█████████████████▋              | 1.6 MB 26.2 MB/s eta 0:00:01\r\u001b[K     |█████████████████▊              | 1.6 MB 26.2 MB/s eta 0:00:01\r\u001b[K     |█████████████████▉              | 1.6 MB 26.2 MB/s eta 0:00:01\r\u001b[K     |██████████████████              | 1.7 MB 26.2 MB/s eta 0:00:01\r\u001b[K     |██████████████████              | 1.7 MB 26.2 MB/s eta 0:00:01\r\u001b[K     |██████████████████▏             | 1.7 MB 26.2 MB/s eta 0:00:01\r\u001b[K     |██████████████████▎             | 1.7 MB 26.2 MB/s eta 0:00:01\r\u001b[K     |██████████████████▍             | 1.7 MB 26.2 MB/s eta 0:00:01\r\u001b[K     |██████████████████▌             | 1.7 MB 26.2 MB/s eta 0:00:01\r\u001b[K     |██████████████████▋             | 1.7 MB 26.2 MB/s eta 0:00:01\r\u001b[K     |██████████████████▊             | 1.7 MB 26.2 MB/s eta 0:00:01\r\u001b[K     |██████████████████▉             | 1.7 MB 26.2 MB/s eta 0:00:01\r\u001b[K     |███████████████████             | 1.8 MB 26.2 MB/s eta 0:00:01\r\u001b[K     |███████████████████             | 1.8 MB 26.2 MB/s eta 0:00:01\r\u001b[K     |███████████████████▏            | 1.8 MB 26.2 MB/s eta 0:00:01\r\u001b[K     |███████████████████▎            | 1.8 MB 26.2 MB/s eta 0:00:01\r\u001b[K     |███████████████████▍            | 1.8 MB 26.2 MB/s eta 0:00:01\r\u001b[K     |███████████████████▌            | 1.8 MB 26.2 MB/s eta 0:00:01\r\u001b[K     |███████████████████▋            | 1.8 MB 26.2 MB/s eta 0:00:01\r\u001b[K     |███████████████████▊            | 1.8 MB 26.2 MB/s eta 0:00:01\r\u001b[K     |███████████████████▉            | 1.8 MB 26.2 MB/s eta 0:00:01\r\u001b[K     |████████████████████            | 1.8 MB 26.2 MB/s eta 0:00:01\r\u001b[K     |████████████████████            | 1.9 MB 26.2 MB/s eta 0:00:01\r\u001b[K     |████████████████████▏           | 1.9 MB 26.2 MB/s eta 0:00:01\r\u001b[K     |████████████████████▎           | 1.9 MB 26.2 MB/s eta 0:00:01\r\u001b[K     |████████████████████▍           | 1.9 MB 26.2 MB/s eta 0:00:01\r\u001b[K     |████████████████████▌           | 1.9 MB 26.2 MB/s eta 0:00:01\r\u001b[K     |████████████████████▋           | 1.9 MB 26.2 MB/s eta 0:00:01\r\u001b[K     |████████████████████▊           | 1.9 MB 26.2 MB/s eta 0:00:01\r\u001b[K     |████████████████████▉           | 1.9 MB 26.2 MB/s eta 0:00:01\r\u001b[K     |█████████████████████           | 1.9 MB 26.2 MB/s eta 0:00:01\r\u001b[K     |█████████████████████           | 1.9 MB 26.2 MB/s eta 0:00:01\r\u001b[K     |█████████████████████▏          | 2.0 MB 26.2 MB/s eta 0:00:01\r\u001b[K     |█████████████████████▎          | 2.0 MB 26.2 MB/s eta 0:00:01\r\u001b[K     |█████████████████████▍          | 2.0 MB 26.2 MB/s eta 0:00:01\r\u001b[K     |█████████████████████▌          | 2.0 MB 26.2 MB/s eta 0:00:01\r\u001b[K     |█████████████████████▋          | 2.0 MB 26.2 MB/s eta 0:00:01\r\u001b[K     |█████████████████████▊          | 2.0 MB 26.2 MB/s eta 0:00:01\r\u001b[K     |█████████████████████▉          | 2.0 MB 26.2 MB/s eta 0:00:01\r\u001b[K     |██████████████████████          | 2.0 MB 26.2 MB/s eta 0:00:01\r\u001b[K     |██████████████████████          | 2.0 MB 26.2 MB/s eta 0:00:01\r\u001b[K     |██████████████████████▏         | 2.0 MB 26.2 MB/s eta 0:00:01\r\u001b[K     |██████████████████████▎         | 2.1 MB 26.2 MB/s eta 0:00:01\r\u001b[K     |██████████████████████▍         | 2.1 MB 26.2 MB/s eta 0:00:01\r\u001b[K     |██████████████████████▌         | 2.1 MB 26.2 MB/s eta 0:00:01\r\u001b[K     |██████████████████████▋         | 2.1 MB 26.2 MB/s eta 0:00:01\r\u001b[K     |██████████████████████▊         | 2.1 MB 26.2 MB/s eta 0:00:01\r\u001b[K     |██████████████████████▉         | 2.1 MB 26.2 MB/s eta 0:00:01\r\u001b[K     |███████████████████████         | 2.1 MB 26.2 MB/s eta 0:00:01\r\u001b[K     |███████████████████████         | 2.1 MB 26.2 MB/s eta 0:00:01\r\u001b[K     |███████████████████████▏        | 2.1 MB 26.2 MB/s eta 0:00:01\r\u001b[K     |███████████████████████▎        | 2.2 MB 26.2 MB/s eta 0:00:01\r\u001b[K     |███████████████████████▍        | 2.2 MB 26.2 MB/s eta 0:00:01\r\u001b[K     |███████████████████████▌        | 2.2 MB 26.2 MB/s eta 0:00:01\r\u001b[K     |███████████████████████▋        | 2.2 MB 26.2 MB/s eta 0:00:01\r\u001b[K     |███████████████████████▊        | 2.2 MB 26.2 MB/s eta 0:00:01\r\u001b[K     |███████████████████████▉        | 2.2 MB 26.2 MB/s eta 0:00:01\r\u001b[K     |████████████████████████        | 2.2 MB 26.2 MB/s eta 0:00:01\r\u001b[K     |████████████████████████        | 2.2 MB 26.2 MB/s eta 0:00:01\r\u001b[K     |████████████████████████▏       | 2.2 MB 26.2 MB/s eta 0:00:01\r\u001b[K     |████████████████████████▎       | 2.2 MB 26.2 MB/s eta 0:00:01\r\u001b[K     |████████████████████████▍       | 2.3 MB 26.2 MB/s eta 0:00:01\r\u001b[K     |████████████████████████▌       | 2.3 MB 26.2 MB/s eta 0:00:01\r\u001b[K     |████████████████████████▋       | 2.3 MB 26.2 MB/s eta 0:00:01\r\u001b[K     |████████████████████████▊       | 2.3 MB 26.2 MB/s eta 0:00:01\r\u001b[K     |████████████████████████▉       | 2.3 MB 26.2 MB/s eta 0:00:01\r\u001b[K     |█████████████████████████       | 2.3 MB 26.2 MB/s eta 0:00:01\r\u001b[K     |█████████████████████████       | 2.3 MB 26.2 MB/s eta 0:00:01\r\u001b[K     |█████████████████████████▏      | 2.3 MB 26.2 MB/s eta 0:00:01\r\u001b[K     |█████████████████████████▎      | 2.3 MB 26.2 MB/s eta 0:00:01\r\u001b[K     |█████████████████████████▍      | 2.3 MB 26.2 MB/s eta 0:00:01\r\u001b[K     |█████████████████████████▌      | 2.4 MB 26.2 MB/s eta 0:00:01\r\u001b[K     |█████████████████████████▋      | 2.4 MB 26.2 MB/s eta 0:00:01\r\u001b[K     |█████████████████████████▊      | 2.4 MB 26.2 MB/s eta 0:00:01\r\u001b[K     |█████████████████████████▉      | 2.4 MB 26.2 MB/s eta 0:00:01\r\u001b[K     |██████████████████████████      | 2.4 MB 26.2 MB/s eta 0:00:01\r\u001b[K     |██████████████████████████      | 2.4 MB 26.2 MB/s eta 0:00:01\r\u001b[K     |██████████████████████████▏     | 2.4 MB 26.2 MB/s eta 0:00:01\r\u001b[K     |██████████████████████████▎     | 2.4 MB 26.2 MB/s eta 0:00:01\r\u001b[K     |██████████████████████████▍     | 2.4 MB 26.2 MB/s eta 0:00:01\r\u001b[K     |██████████████████████████▌     | 2.4 MB 26.2 MB/s eta 0:00:01\r\u001b[K     |██████████████████████████▋     | 2.5 MB 26.2 MB/s eta 0:00:01\r\u001b[K     |██████████████████████████▊     | 2.5 MB 26.2 MB/s eta 0:00:01\r\u001b[K     |██████████████████████████▉     | 2.5 MB 26.2 MB/s eta 0:00:01\r\u001b[K     |███████████████████████████     | 2.5 MB 26.2 MB/s eta 0:00:01\r\u001b[K     |███████████████████████████     | 2.5 MB 26.2 MB/s eta 0:00:01\r\u001b[K     |███████████████████████████▏    | 2.5 MB 26.2 MB/s eta 0:00:01\r\u001b[K     |███████████████████████████▎    | 2.5 MB 26.2 MB/s eta 0:00:01\r\u001b[K     |███████████████████████████▍    | 2.5 MB 26.2 MB/s eta 0:00:01\r\u001b[K     |███████████████████████████▌    | 2.5 MB 26.2 MB/s eta 0:00:01\r\u001b[K     |███████████████████████████▋    | 2.5 MB 26.2 MB/s eta 0:00:01\r\u001b[K     |███████████████████████████▊    | 2.6 MB 26.2 MB/s eta 0:00:01\r\u001b[K     |███████████████████████████▉    | 2.6 MB 26.2 MB/s eta 0:00:01\r\u001b[K     |████████████████████████████    | 2.6 MB 26.2 MB/s eta 0:00:01\r\u001b[K     |████████████████████████████    | 2.6 MB 26.2 MB/s eta 0:00:01\r\u001b[K     |████████████████████████████▏   | 2.6 MB 26.2 MB/s eta 0:00:01\r\u001b[K     |████████████████████████████▎   | 2.6 MB 26.2 MB/s eta 0:00:01\r\u001b[K     |████████████████████████████▍   | 2.6 MB 26.2 MB/s eta 0:00:01\r\u001b[K     |████████████████████████████▌   | 2.6 MB 26.2 MB/s eta 0:00:01\r\u001b[K     |████████████████████████████▋   | 2.6 MB 26.2 MB/s eta 0:00:01\r\u001b[K     |████████████████████████████▊   | 2.7 MB 26.2 MB/s eta 0:00:01\r\u001b[K     |████████████████████████████▉   | 2.7 MB 26.2 MB/s eta 0:00:01\r\u001b[K     |█████████████████████████████   | 2.7 MB 26.2 MB/s eta 0:00:01\r\u001b[K     |█████████████████████████████   | 2.7 MB 26.2 MB/s eta 0:00:01\r\u001b[K     |█████████████████████████████▏  | 2.7 MB 26.2 MB/s eta 0:00:01\r\u001b[K     |█████████████████████████████▎  | 2.7 MB 26.2 MB/s eta 0:00:01\r\u001b[K     |█████████████████████████████▍  | 2.7 MB 26.2 MB/s eta 0:00:01\r\u001b[K     |█████████████████████████████▌  | 2.7 MB 26.2 MB/s eta 0:00:01\r\u001b[K     |█████████████████████████████▋  | 2.7 MB 26.2 MB/s eta 0:00:01\r\u001b[K     |█████████████████████████████▊  | 2.7 MB 26.2 MB/s eta 0:00:01\r\u001b[K     |█████████████████████████████▉  | 2.8 MB 26.2 MB/s eta 0:00:01\r\u001b[K     |██████████████████████████████  | 2.8 MB 26.2 MB/s eta 0:00:01\r\u001b[K     |██████████████████████████████  | 2.8 MB 26.2 MB/s eta 0:00:01\r\u001b[K     |██████████████████████████████▏ | 2.8 MB 26.2 MB/s eta 0:00:01\r\u001b[K     |██████████████████████████████▎ | 2.8 MB 26.2 MB/s eta 0:00:01\r\u001b[K     |██████████████████████████████▍ | 2.8 MB 26.2 MB/s eta 0:00:01\r\u001b[K     |██████████████████████████████▌ | 2.8 MB 26.2 MB/s eta 0:00:01\r\u001b[K     |██████████████████████████████▋ | 2.8 MB 26.2 MB/s eta 0:00:01\r\u001b[K     |██████████████████████████████▊ | 2.8 MB 26.2 MB/s eta 0:00:01\r\u001b[K     |██████████████████████████████▉ | 2.8 MB 26.2 MB/s eta 0:00:01\r\u001b[K     |███████████████████████████████ | 2.9 MB 26.2 MB/s eta 0:00:01\r\u001b[K     |███████████████████████████████ | 2.9 MB 26.2 MB/s eta 0:00:01\r\u001b[K     |███████████████████████████████▏| 2.9 MB 26.2 MB/s eta 0:00:01\r\u001b[K     |███████████████████████████████▎| 2.9 MB 26.2 MB/s eta 0:00:01\r\u001b[K     |███████████████████████████████▍| 2.9 MB 26.2 MB/s eta 0:00:01\r\u001b[K     |███████████████████████████████▌| 2.9 MB 26.2 MB/s eta 0:00:01\r\u001b[K     |███████████████████████████████▋| 2.9 MB 26.2 MB/s eta 0:00:01\r\u001b[K     |███████████████████████████████▊| 2.9 MB 26.2 MB/s eta 0:00:01\r\u001b[K     |███████████████████████████████▉| 2.9 MB 26.2 MB/s eta 0:00:01\r\u001b[K     |████████████████████████████████| 2.9 MB 26.2 MB/s eta 0:00:01\r\u001b[K     |████████████████████████████████| 3.0 MB 26.2 MB/s \n",
            "\u001b[?25hInstalling collected packages: psycopg2-binary\n",
            "Successfully installed psycopg2-binary-2.8.6\n"
          ]
        }
      ]
    },
    {
      "cell_type": "code",
      "source": [
        "from sqlalchemy import create_engine"
      ],
      "metadata": {
        "id": "B2x8OFUmElzh"
      },
      "execution_count": null,
      "outputs": []
    },
    {
      "cell_type": "code",
      "source": [
        "DB_NAME = 'postgres'\n",
        "DB_USER = 'user1'\n",
        "DB_PASSWORD = 'user1'\n",
        "DB_HOST = '104.197.148.144'\n",
        "DB_PORT = '5432'\n",
        "CONNECTION_STRING = f'postgresql://{DB_USER}:{DB_PASSWORD}@{DB_HOST}:{DB_PORT}/{DB_NAME}'\n",
        "TABLE_NAME = 'orang_terkaya_indonesia'"
      ],
      "metadata": {
        "id": "9QYz1CbCEumk"
      },
      "execution_count": null,
      "outputs": []
    },
    {
      "cell_type": "code",
      "source": [
        "from sqlalchemy.sql.type_api import TABLEVALUE\n",
        "def write_to_postgres(df, db_name, table_name, connection_string):\n",
        "  engine = create_engine(CONNECTION_STRING)\n",
        "  logging.info(f\"Writing dataframe to database: '{db_name}', table:' {table_name}' ...\")\n",
        "  df.to_sql(name = TABLE_NAME, con=engine, if_exists='replace', index=False)"
      ],
      "metadata": {
        "id": "eDhy-1XnHP7u"
      },
      "execution_count": null,
      "outputs": []
    },
    {
      "cell_type": "code",
      "source": [
        "write_to_postgres(df=df_2021, db_name=DB_NAME, table_name=TABLE_NAME, connection_string=CONNECTION_STRING)"
      ],
      "metadata": {
        "colab": {
          "base_uri": "https://localhost:8080/"
        },
        "id": "9ZZBNCvXPh2O",
        "outputId": "47fb5ea4-820b-43f5-9917-e0b83563471b"
      },
      "execution_count": null,
      "outputs": [
        {
          "output_type": "stream",
          "name": "stderr",
          "text": [
            "INFO:root:Writing dataframe to database: 'postgres', table:' orang_terkaya_indonesia' ...\n"
          ]
        }
      ]
    }
  ]
}